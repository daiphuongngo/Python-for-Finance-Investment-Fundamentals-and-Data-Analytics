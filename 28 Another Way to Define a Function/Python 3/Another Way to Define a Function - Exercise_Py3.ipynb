{
 "cells": [
  {
   "cell_type": "markdown",
   "metadata": {},
   "source": [
    "## Another Way to Define a Function"
   ]
  },
  {
   "cell_type": "markdown",
   "metadata": {},
   "source": [
    "Define a function that states the value of the argument accompanied by the phrase \"Raised to the power of 2:\" and returns a value equal to its argument raised to the power of 2. This time, use a new variable, called \"result\", in the body of the Function. \n",
    "Call the function with some argument to verify it works properly.\n",
    "\n",
    "*Hint: Your knowledge about stating multiple elements on a line can be of great help in solving this exercise!*"
   ]
  },
  {
   "cell_type": "code",
   "execution_count": 1,
   "metadata": {},
   "outputs": [
    {
     "name": "stdout",
     "output_type": "stream",
     "text": [
      "Raised to the power of 2:\n"
     ]
    },
    {
     "data": {
      "text/plain": [
       "100"
      ]
     },
     "execution_count": 1,
     "metadata": {},
     "output_type": "execute_result"
    }
   ],
   "source": [
    "def power_to_2(a):\n",
    "    result = a**2\n",
    "    print(\"Raised to the power of 2:\")\n",
    "    return result\n",
    "power_to_2(10)"
   ]
  },
  {
   "cell_type": "code",
   "execution_count": null,
   "metadata": {},
   "outputs": [],
   "source": []
  }
 ],
 "metadata": {
  "anaconda-cloud": {},
  "kernelspec": {
   "display_name": "Python 3",
   "language": "python",
   "name": "python3"
  },
  "language_info": {
   "codemirror_mode": {
    "name": "ipython",
    "version": 3
   },
   "file_extension": ".py",
   "mimetype": "text/x-python",
   "name": "python",
   "nbconvert_exporter": "python",
   "pygments_lexer": "ipython3",
   "version": "3.7.6"
  }
 },
 "nbformat": 4,
 "nbformat_minor": 1
}
