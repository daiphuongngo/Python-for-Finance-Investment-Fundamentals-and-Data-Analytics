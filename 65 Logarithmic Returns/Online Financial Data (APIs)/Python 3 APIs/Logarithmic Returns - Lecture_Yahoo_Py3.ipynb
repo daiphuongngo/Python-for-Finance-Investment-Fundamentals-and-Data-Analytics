{
 "cells": [
  {
   "cell_type": "code",
   "execution_count": 1,
   "metadata": {},
   "outputs": [
    {
     "name": "stderr",
     "output_type": "stream",
     "text": [
      "C:\\ProgramData\\Anaconda3\\lib\\site-packages\\pandas_datareader\\compat\\__init__.py:7: FutureWarning: pandas.util.testing is deprecated. Use the functions in the public API at pandas.testing instead.\n",
      "  from pandas.util.testing import assert_frame_equal\n"
     ]
    }
   ],
   "source": [
    "import numpy as np\n",
    "from pandas_datareader import data as wb\n",
    "import matplotlib.pyplot as plt"
   ]
  },
  {
   "cell_type": "code",
   "execution_count": 3,
   "metadata": {},
   "outputs": [
    {
     "data": {
      "text/html": [
       "<div>\n",
       "<style scoped>\n",
       "    .dataframe tbody tr th:only-of-type {\n",
       "        vertical-align: middle;\n",
       "    }\n",
       "\n",
       "    .dataframe tbody tr th {\n",
       "        vertical-align: top;\n",
       "    }\n",
       "\n",
       "    .dataframe thead th {\n",
       "        text-align: right;\n",
       "    }\n",
       "</style>\n",
       "<table border=\"1\" class=\"dataframe\">\n",
       "  <thead>\n",
       "    <tr style=\"text-align: right;\">\n",
       "      <th></th>\n",
       "      <th>High</th>\n",
       "      <th>Low</th>\n",
       "      <th>Open</th>\n",
       "      <th>Close</th>\n",
       "      <th>Volume</th>\n",
       "      <th>Adj Close</th>\n",
       "    </tr>\n",
       "    <tr>\n",
       "      <th>Date</th>\n",
       "      <th></th>\n",
       "      <th></th>\n",
       "      <th></th>\n",
       "      <th></th>\n",
       "      <th></th>\n",
       "      <th></th>\n",
       "    </tr>\n",
       "  </thead>\n",
       "  <tbody>\n",
       "    <tr>\n",
       "      <th>1995-01-03</th>\n",
       "      <td>15.625000</td>\n",
       "      <td>15.437500</td>\n",
       "      <td>15.468750</td>\n",
       "      <td>15.593750</td>\n",
       "      <td>3318400.0</td>\n",
       "      <td>6.320252</td>\n",
       "    </tr>\n",
       "    <tr>\n",
       "      <th>1995-01-04</th>\n",
       "      <td>15.656250</td>\n",
       "      <td>15.312500</td>\n",
       "      <td>15.531250</td>\n",
       "      <td>15.468750</td>\n",
       "      <td>2218800.0</td>\n",
       "      <td>6.269589</td>\n",
       "    </tr>\n",
       "    <tr>\n",
       "      <th>1995-01-05</th>\n",
       "      <td>15.437500</td>\n",
       "      <td>15.218750</td>\n",
       "      <td>15.375000</td>\n",
       "      <td>15.250000</td>\n",
       "      <td>2319600.0</td>\n",
       "      <td>6.180927</td>\n",
       "    </tr>\n",
       "    <tr>\n",
       "      <th>1995-01-06</th>\n",
       "      <td>15.406250</td>\n",
       "      <td>15.156250</td>\n",
       "      <td>15.156250</td>\n",
       "      <td>15.281250</td>\n",
       "      <td>3438000.0</td>\n",
       "      <td>6.193593</td>\n",
       "    </tr>\n",
       "    <tr>\n",
       "      <th>1995-01-09</th>\n",
       "      <td>15.406250</td>\n",
       "      <td>15.187500</td>\n",
       "      <td>15.343750</td>\n",
       "      <td>15.218750</td>\n",
       "      <td>1795200.0</td>\n",
       "      <td>6.168259</td>\n",
       "    </tr>\n",
       "    <tr>\n",
       "      <th>...</th>\n",
       "      <td>...</td>\n",
       "      <td>...</td>\n",
       "      <td>...</td>\n",
       "      <td>...</td>\n",
       "      <td>...</td>\n",
       "      <td>...</td>\n",
       "    </tr>\n",
       "    <tr>\n",
       "      <th>2020-05-04</th>\n",
       "      <td>117.199997</td>\n",
       "      <td>115.000000</td>\n",
       "      <td>117.089996</td>\n",
       "      <td>115.769997</td>\n",
       "      <td>5636000.0</td>\n",
       "      <td>115.769997</td>\n",
       "    </tr>\n",
       "    <tr>\n",
       "      <th>2020-05-05</th>\n",
       "      <td>117.260002</td>\n",
       "      <td>115.209999</td>\n",
       "      <td>115.800003</td>\n",
       "      <td>116.010002</td>\n",
       "      <td>5425200.0</td>\n",
       "      <td>116.010002</td>\n",
       "    </tr>\n",
       "    <tr>\n",
       "      <th>2020-05-06</th>\n",
       "      <td>116.139999</td>\n",
       "      <td>112.889999</td>\n",
       "      <td>115.540001</td>\n",
       "      <td>113.099998</td>\n",
       "      <td>7892200.0</td>\n",
       "      <td>113.099998</td>\n",
       "    </tr>\n",
       "    <tr>\n",
       "      <th>2020-05-07</th>\n",
       "      <td>114.139999</td>\n",
       "      <td>111.820000</td>\n",
       "      <td>114.059998</td>\n",
       "      <td>112.169998</td>\n",
       "      <td>8762800.0</td>\n",
       "      <td>112.169998</td>\n",
       "    </tr>\n",
       "    <tr>\n",
       "      <th>2020-05-08</th>\n",
       "      <td>116.300003</td>\n",
       "      <td>113.389999</td>\n",
       "      <td>113.519997</td>\n",
       "      <td>115.949997</td>\n",
       "      <td>9279900.0</td>\n",
       "      <td>115.949997</td>\n",
       "    </tr>\n",
       "  </tbody>\n",
       "</table>\n",
       "<p>6383 rows × 6 columns</p>\n",
       "</div>"
      ],
      "text/plain": [
       "                  High         Low        Open       Close     Volume  \\\n",
       "Date                                                                    \n",
       "1995-01-03   15.625000   15.437500   15.468750   15.593750  3318400.0   \n",
       "1995-01-04   15.656250   15.312500   15.531250   15.468750  2218800.0   \n",
       "1995-01-05   15.437500   15.218750   15.375000   15.250000  2319600.0   \n",
       "1995-01-06   15.406250   15.156250   15.156250   15.281250  3438000.0   \n",
       "1995-01-09   15.406250   15.187500   15.343750   15.218750  1795200.0   \n",
       "...                ...         ...         ...         ...        ...   \n",
       "2020-05-04  117.199997  115.000000  117.089996  115.769997  5636000.0   \n",
       "2020-05-05  117.260002  115.209999  115.800003  116.010002  5425200.0   \n",
       "2020-05-06  116.139999  112.889999  115.540001  113.099998  7892200.0   \n",
       "2020-05-07  114.139999  111.820000  114.059998  112.169998  8762800.0   \n",
       "2020-05-08  116.300003  113.389999  113.519997  115.949997  9279900.0   \n",
       "\n",
       "             Adj Close  \n",
       "Date                    \n",
       "1995-01-03    6.320252  \n",
       "1995-01-04    6.269589  \n",
       "1995-01-05    6.180927  \n",
       "1995-01-06    6.193593  \n",
       "1995-01-09    6.168259  \n",
       "...                ...  \n",
       "2020-05-04  115.769997  \n",
       "2020-05-05  116.010002  \n",
       "2020-05-06  113.099998  \n",
       "2020-05-07  112.169998  \n",
       "2020-05-08  115.949997  \n",
       "\n",
       "[6383 rows x 6 columns]"
      ]
     },
     "execution_count": 3,
     "metadata": {},
     "output_type": "execute_result"
    }
   ],
   "source": [
    "PG = wb.DataReader('PG', data_source='yahoo', start='1995-1-1')\n",
    "PG"
   ]
  },
  {
   "cell_type": "code",
   "execution_count": 4,
   "metadata": {},
   "outputs": [
    {
     "data": {
      "text/html": [
       "<div>\n",
       "<style scoped>\n",
       "    .dataframe tbody tr th:only-of-type {\n",
       "        vertical-align: middle;\n",
       "    }\n",
       "\n",
       "    .dataframe tbody tr th {\n",
       "        vertical-align: top;\n",
       "    }\n",
       "\n",
       "    .dataframe thead th {\n",
       "        text-align: right;\n",
       "    }\n",
       "</style>\n",
       "<table border=\"1\" class=\"dataframe\">\n",
       "  <thead>\n",
       "    <tr style=\"text-align: right;\">\n",
       "      <th></th>\n",
       "      <th>High</th>\n",
       "      <th>Low</th>\n",
       "      <th>Open</th>\n",
       "      <th>Close</th>\n",
       "      <th>Volume</th>\n",
       "      <th>Adj Close</th>\n",
       "    </tr>\n",
       "    <tr>\n",
       "      <th>Date</th>\n",
       "      <th></th>\n",
       "      <th></th>\n",
       "      <th></th>\n",
       "      <th></th>\n",
       "      <th></th>\n",
       "      <th></th>\n",
       "    </tr>\n",
       "  </thead>\n",
       "  <tbody>\n",
       "    <tr>\n",
       "      <th>1995-01-03</th>\n",
       "      <td>15.62500</td>\n",
       "      <td>15.43750</td>\n",
       "      <td>15.46875</td>\n",
       "      <td>15.59375</td>\n",
       "      <td>3318400.0</td>\n",
       "      <td>6.320252</td>\n",
       "    </tr>\n",
       "    <tr>\n",
       "      <th>1995-01-04</th>\n",
       "      <td>15.65625</td>\n",
       "      <td>15.31250</td>\n",
       "      <td>15.53125</td>\n",
       "      <td>15.46875</td>\n",
       "      <td>2218800.0</td>\n",
       "      <td>6.269589</td>\n",
       "    </tr>\n",
       "    <tr>\n",
       "      <th>1995-01-05</th>\n",
       "      <td>15.43750</td>\n",
       "      <td>15.21875</td>\n",
       "      <td>15.37500</td>\n",
       "      <td>15.25000</td>\n",
       "      <td>2319600.0</td>\n",
       "      <td>6.180927</td>\n",
       "    </tr>\n",
       "    <tr>\n",
       "      <th>1995-01-06</th>\n",
       "      <td>15.40625</td>\n",
       "      <td>15.15625</td>\n",
       "      <td>15.15625</td>\n",
       "      <td>15.28125</td>\n",
       "      <td>3438000.0</td>\n",
       "      <td>6.193593</td>\n",
       "    </tr>\n",
       "    <tr>\n",
       "      <th>1995-01-09</th>\n",
       "      <td>15.40625</td>\n",
       "      <td>15.18750</td>\n",
       "      <td>15.34375</td>\n",
       "      <td>15.21875</td>\n",
       "      <td>1795200.0</td>\n",
       "      <td>6.168259</td>\n",
       "    </tr>\n",
       "  </tbody>\n",
       "</table>\n",
       "</div>"
      ],
      "text/plain": [
       "                High       Low      Open     Close     Volume  Adj Close\n",
       "Date                                                                    \n",
       "1995-01-03  15.62500  15.43750  15.46875  15.59375  3318400.0   6.320252\n",
       "1995-01-04  15.65625  15.31250  15.53125  15.46875  2218800.0   6.269589\n",
       "1995-01-05  15.43750  15.21875  15.37500  15.25000  2319600.0   6.180927\n",
       "1995-01-06  15.40625  15.15625  15.15625  15.28125  3438000.0   6.193593\n",
       "1995-01-09  15.40625  15.18750  15.34375  15.21875  1795200.0   6.168259"
      ]
     },
     "execution_count": 4,
     "metadata": {},
     "output_type": "execute_result"
    }
   ],
   "source": [
    "PG.head()"
   ]
  },
  {
   "cell_type": "code",
   "execution_count": 5,
   "metadata": {},
   "outputs": [
    {
     "data": {
      "text/html": [
       "<div>\n",
       "<style scoped>\n",
       "    .dataframe tbody tr th:only-of-type {\n",
       "        vertical-align: middle;\n",
       "    }\n",
       "\n",
       "    .dataframe tbody tr th {\n",
       "        vertical-align: top;\n",
       "    }\n",
       "\n",
       "    .dataframe thead th {\n",
       "        text-align: right;\n",
       "    }\n",
       "</style>\n",
       "<table border=\"1\" class=\"dataframe\">\n",
       "  <thead>\n",
       "    <tr style=\"text-align: right;\">\n",
       "      <th></th>\n",
       "      <th>High</th>\n",
       "      <th>Low</th>\n",
       "      <th>Open</th>\n",
       "      <th>Close</th>\n",
       "      <th>Volume</th>\n",
       "      <th>Adj Close</th>\n",
       "    </tr>\n",
       "    <tr>\n",
       "      <th>Date</th>\n",
       "      <th></th>\n",
       "      <th></th>\n",
       "      <th></th>\n",
       "      <th></th>\n",
       "      <th></th>\n",
       "      <th></th>\n",
       "    </tr>\n",
       "  </thead>\n",
       "  <tbody>\n",
       "    <tr>\n",
       "      <th>2020-05-04</th>\n",
       "      <td>117.199997</td>\n",
       "      <td>115.000000</td>\n",
       "      <td>117.089996</td>\n",
       "      <td>115.769997</td>\n",
       "      <td>5636000.0</td>\n",
       "      <td>115.769997</td>\n",
       "    </tr>\n",
       "    <tr>\n",
       "      <th>2020-05-05</th>\n",
       "      <td>117.260002</td>\n",
       "      <td>115.209999</td>\n",
       "      <td>115.800003</td>\n",
       "      <td>116.010002</td>\n",
       "      <td>5425200.0</td>\n",
       "      <td>116.010002</td>\n",
       "    </tr>\n",
       "    <tr>\n",
       "      <th>2020-05-06</th>\n",
       "      <td>116.139999</td>\n",
       "      <td>112.889999</td>\n",
       "      <td>115.540001</td>\n",
       "      <td>113.099998</td>\n",
       "      <td>7892200.0</td>\n",
       "      <td>113.099998</td>\n",
       "    </tr>\n",
       "    <tr>\n",
       "      <th>2020-05-07</th>\n",
       "      <td>114.139999</td>\n",
       "      <td>111.820000</td>\n",
       "      <td>114.059998</td>\n",
       "      <td>112.169998</td>\n",
       "      <td>8762800.0</td>\n",
       "      <td>112.169998</td>\n",
       "    </tr>\n",
       "    <tr>\n",
       "      <th>2020-05-08</th>\n",
       "      <td>116.300003</td>\n",
       "      <td>113.389999</td>\n",
       "      <td>113.519997</td>\n",
       "      <td>115.949997</td>\n",
       "      <td>9279900.0</td>\n",
       "      <td>115.949997</td>\n",
       "    </tr>\n",
       "  </tbody>\n",
       "</table>\n",
       "</div>"
      ],
      "text/plain": [
       "                  High         Low        Open       Close     Volume  \\\n",
       "Date                                                                    \n",
       "2020-05-04  117.199997  115.000000  117.089996  115.769997  5636000.0   \n",
       "2020-05-05  117.260002  115.209999  115.800003  116.010002  5425200.0   \n",
       "2020-05-06  116.139999  112.889999  115.540001  113.099998  7892200.0   \n",
       "2020-05-07  114.139999  111.820000  114.059998  112.169998  8762800.0   \n",
       "2020-05-08  116.300003  113.389999  113.519997  115.949997  9279900.0   \n",
       "\n",
       "             Adj Close  \n",
       "Date                    \n",
       "2020-05-04  115.769997  \n",
       "2020-05-05  116.010002  \n",
       "2020-05-06  113.099998  \n",
       "2020-05-07  112.169998  \n",
       "2020-05-08  115.949997  "
      ]
     },
     "execution_count": 5,
     "metadata": {},
     "output_type": "execute_result"
    }
   ],
   "source": [
    "PG.tail()"
   ]
  },
  {
   "cell_type": "markdown",
   "metadata": {},
   "source": [
    "## Simple Rate of Return"
   ]
  },
  {
   "cell_type": "markdown",
   "metadata": {},
   "source": [
    "$$\n",
    "\\frac{P_1 - P_0}{P_0} = \\frac{P_1}{P_0} - 1\n",
    "$$"
   ]
  },
  {
   "cell_type": "code",
   "execution_count": 6,
   "metadata": {},
   "outputs": [
    {
     "name": "stdout",
     "output_type": "stream",
     "text": [
      "Date\n",
      "1995-01-03         NaN\n",
      "1995-01-04   -0.008016\n",
      "1995-01-05   -0.014142\n",
      "1995-01-06    0.002049\n",
      "1995-01-09   -0.004090\n",
      "                ...   \n",
      "2020-05-04   -0.008988\n",
      "2020-05-05    0.002073\n",
      "2020-05-06   -0.025084\n",
      "2020-05-07   -0.008223\n",
      "2020-05-08    0.033699\n",
      "Name: simple_return, Length: 6383, dtype: float64\n"
     ]
    }
   ],
   "source": [
    "PG['simple_return'] = (PG['Adj Close'] / PG['Adj Close'].shift(1)) - 1\n",
    "print (PG['simple_return'])"
   ]
  },
  {
   "cell_type": "code",
   "execution_count": 7,
   "metadata": {},
   "outputs": [
    {
     "data": {
      "image/png": "[encoded data removed]",
      "text/plain": [
       "<Figure size 576x360 with 1 Axes>"
      ]
     },
     "metadata": {
      "needs_background": "light"
     },
     "output_type": "display_data"
    }
   ],
   "source": [
    "PG['simple_return'].plot(figsize=(8, 5))\n",
    "plt.show()"
   ]
  },
  {
   "cell_type": "code",
   "execution_count": 8,
   "metadata": {},
   "outputs": [
    {
     "data": {
      "text/plain": [
       "0.000559882734832951"
      ]
     },
     "execution_count": 8,
     "metadata": {},
     "output_type": "execute_result"
    }
   ],
   "source": [
    "avg_returns_d = PG['simple_return'].mean()\n",
    "avg_returns_d"
   ]
  },
  {
   "cell_type": "code",
   "execution_count": 9,
   "metadata": {},
   "outputs": [
    {
     "data": {
      "text/plain": [
       "0.13997068370823776"
      ]
     },
     "execution_count": 9,
     "metadata": {},
     "output_type": "execute_result"
    }
   ],
   "source": [
    "avg_returns_a = PG['simple_return'].mean() * 250\n",
    "avg_returns_a"
   ]
  },
  {
   "cell_type": "code",
   "execution_count": 11,
   "metadata": {},
   "outputs": [
    {
     "name": "stdout",
     "output_type": "stream",
     "text": [
      "13.997000000000002 %\n"
     ]
    }
   ],
   "source": [
    "print (str(round(avg_returns_a, 5) * 100) + ' %')"
   ]
  },
  {
   "cell_type": "markdown",
   "metadata": {},
   "source": [
    "## Log Returns\n",
    "\n",
    "It is preferable to use simple returns when we calculate the returns of multiple securities in the same period.\n",
    "\n",
    "On the other hand log returns are a better choice when we have only one security and calculated return\n",
    "over multiple time periods. \n",
    "*** Single Stock ==>> Log Returns"
   ]
  },
  {
   "cell_type": "markdown",
   "metadata": {},
   "source": [
    "$$\n",
    "ln(\\frac{P_t}{P_{t-1}})\n",
    "$$"
   ]
  },
  {
   "cell_type": "code",
   "execution_count": 12,
   "metadata": {},
   "outputs": [
    {
     "data": {
      "text/html": [
       "<div>\n",
       "<style scoped>\n",
       "    .dataframe tbody tr th:only-of-type {\n",
       "        vertical-align: middle;\n",
       "    }\n",
       "\n",
       "    .dataframe tbody tr th {\n",
       "        vertical-align: top;\n",
       "    }\n",
       "\n",
       "    .dataframe thead th {\n",
       "        text-align: right;\n",
       "    }\n",
       "</style>\n",
       "<table border=\"1\" class=\"dataframe\">\n",
       "  <thead>\n",
       "    <tr style=\"text-align: right;\">\n",
       "      <th></th>\n",
       "      <th>High</th>\n",
       "      <th>Low</th>\n",
       "      <th>Open</th>\n",
       "      <th>Close</th>\n",
       "      <th>Volume</th>\n",
       "      <th>Adj Close</th>\n",
       "      <th>simple_return</th>\n",
       "    </tr>\n",
       "    <tr>\n",
       "      <th>Date</th>\n",
       "      <th></th>\n",
       "      <th></th>\n",
       "      <th></th>\n",
       "      <th></th>\n",
       "      <th></th>\n",
       "      <th></th>\n",
       "      <th></th>\n",
       "    </tr>\n",
       "  </thead>\n",
       "  <tbody>\n",
       "    <tr>\n",
       "      <th>1995-01-03</th>\n",
       "      <td>15.62500</td>\n",
       "      <td>15.43750</td>\n",
       "      <td>15.46875</td>\n",
       "      <td>15.59375</td>\n",
       "      <td>3318400.0</td>\n",
       "      <td>6.320252</td>\n",
       "      <td>NaN</td>\n",
       "    </tr>\n",
       "    <tr>\n",
       "      <th>1995-01-04</th>\n",
       "      <td>15.65625</td>\n",
       "      <td>15.31250</td>\n",
       "      <td>15.53125</td>\n",
       "      <td>15.46875</td>\n",
       "      <td>2218800.0</td>\n",
       "      <td>6.269589</td>\n",
       "      <td>-0.008016</td>\n",
       "    </tr>\n",
       "    <tr>\n",
       "      <th>1995-01-05</th>\n",
       "      <td>15.43750</td>\n",
       "      <td>15.21875</td>\n",
       "      <td>15.37500</td>\n",
       "      <td>15.25000</td>\n",
       "      <td>2319600.0</td>\n",
       "      <td>6.180927</td>\n",
       "      <td>-0.014142</td>\n",
       "    </tr>\n",
       "    <tr>\n",
       "      <th>1995-01-06</th>\n",
       "      <td>15.40625</td>\n",
       "      <td>15.15625</td>\n",
       "      <td>15.15625</td>\n",
       "      <td>15.28125</td>\n",
       "      <td>3438000.0</td>\n",
       "      <td>6.193593</td>\n",
       "      <td>0.002049</td>\n",
       "    </tr>\n",
       "    <tr>\n",
       "      <th>1995-01-09</th>\n",
       "      <td>15.40625</td>\n",
       "      <td>15.18750</td>\n",
       "      <td>15.34375</td>\n",
       "      <td>15.21875</td>\n",
       "      <td>1795200.0</td>\n",
       "      <td>6.168259</td>\n",
       "      <td>-0.004090</td>\n",
       "    </tr>\n",
       "  </tbody>\n",
       "</table>\n",
       "</div>"
      ],
      "text/plain": [
       "                High       Low      Open     Close     Volume  Adj Close  \\\n",
       "Date                                                                       \n",
       "1995-01-03  15.62500  15.43750  15.46875  15.59375  3318400.0   6.320252   \n",
       "1995-01-04  15.65625  15.31250  15.53125  15.46875  2218800.0   6.269589   \n",
       "1995-01-05  15.43750  15.21875  15.37500  15.25000  2319600.0   6.180927   \n",
       "1995-01-06  15.40625  15.15625  15.15625  15.28125  3438000.0   6.193593   \n",
       "1995-01-09  15.40625  15.18750  15.34375  15.21875  1795200.0   6.168259   \n",
       "\n",
       "            simple_return  \n",
       "Date                       \n",
       "1995-01-03            NaN  \n",
       "1995-01-04      -0.008016  \n",
       "1995-01-05      -0.014142  \n",
       "1995-01-06       0.002049  \n",
       "1995-01-09      -0.004090  "
      ]
     },
     "execution_count": 12,
     "metadata": {},
     "output_type": "execute_result"
    }
   ],
   "source": [
    "PG.head()"
   ]
  },
  {
   "cell_type": "code",
   "execution_count": 13,
   "metadata": {},
   "outputs": [
    {
     "name": "stdout",
     "output_type": "stream",
     "text": [
      "Date\n",
      "1995-01-03         NaN\n",
      "1995-01-04   -0.008048\n",
      "1995-01-05   -0.014243\n",
      "1995-01-06    0.002047\n",
      "1995-01-09   -0.004099\n",
      "                ...   \n",
      "2020-05-04   -0.009029\n",
      "2020-05-05    0.002071\n",
      "2020-05-06   -0.025404\n",
      "2020-05-07   -0.008257\n",
      "2020-05-08    0.033143\n",
      "Name: log_return, Length: 6383, dtype: float64\n"
     ]
    }
   ],
   "source": [
    "# Numpy offers the possibility of vectorized computation.\n",
    "# Vectorization: the ability to organize several kinds of data processing tasks as array expressions.\n",
    "# The benefit is that this package offers the possibility of vectorized computation this term refers to the \n",
    "# ability to organize several kinds of data processing tasks as array expressions vectors matrices or \n",
    "# multi-dimensional arrays.\n",
    "# Vectorization <<--->> Array Programming\n",
    "PG['log_return'] = np.log(PG['Adj Close'] / PG['Adj Close'].shift(1))\n",
    "print (PG['log_return'])"
   ]
  },
  {
   "cell_type": "code",
   "execution_count": 14,
   "metadata": {},
   "outputs": [
    {
     "data": {
      "image/png": "[encoded data removed]",
      "text/plain": [
       "<Figure size 576x360 with 1 Axes>"
      ]
     },
     "metadata": {
      "needs_background": "light"
     },
     "output_type": "display_data"
    }
   ],
   "source": [
    "PG['log_return'].plot(figsize=(8, 5))\n",
    "plt.show()"
   ]
  },
  {
   "cell_type": "code",
   "execution_count": 13,
   "metadata": {},
   "outputs": [
    {
     "data": {
      "text/plain": [
       "0.00044612566594289796"
      ]
     },
     "execution_count": 13,
     "metadata": {},
     "output_type": "execute_result"
    }
   ],
   "source": [
    "log_return_d = PG['log_return'].mean()\n",
    "log_return_d"
   ]
  },
  {
   "cell_type": "code",
   "execution_count": 14,
   "metadata": {},
   "outputs": [
    {
     "data": {
      "text/plain": [
       "0.11153141648572448"
      ]
     },
     "execution_count": 14,
     "metadata": {},
     "output_type": "execute_result"
    }
   ],
   "source": [
    "log_return_a = PG['log_return'].mean() * 250\n",
    "log_return_a"
   ]
  },
  {
   "cell_type": "code",
   "execution_count": 15,
   "metadata": {},
   "outputs": [
    {
     "name": "stdout",
     "output_type": "stream",
     "text": [
      "11.153 %\n"
     ]
    }
   ],
   "source": [
    "print (str(round(log_return_a, 5) * 100) + ' %')"
   ]
  }
 ],
 "metadata": {
  "kernelspec": {
   "display_name": "Python 3",
   "language": "python",
   "name": "python3"
  },
  "language_info": {
   "codemirror_mode": {
    "name": "ipython",
    "version": 3
   },
   "file_extension": ".py",
   "mimetype": "text/x-python",
   "name": "python",
   "nbconvert_exporter": "python",
   "pygments_lexer": "ipython3",
   "version": "3.7.6"
  }
 },
 "nbformat": 4,
 "nbformat_minor": 4
}
